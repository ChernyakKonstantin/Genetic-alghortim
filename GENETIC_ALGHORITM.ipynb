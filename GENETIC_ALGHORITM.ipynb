{
  "nbformat": 4,
  "nbformat_minor": 0,
  "metadata": {
    "colab": {
      "name": "GENETIC ALGHORITM",
      "provenance": [],
      "collapsed_sections": [],
      "machine_shape": "hm"
    },
    "kernelspec": {
      "name": "python3",
      "display_name": "Python 3"
    }
  },
  "cells": [
    {
      "cell_type": "code",
      "metadata": {
        "id": "UD03ZZy2LuIg",
        "colab_type": "code",
        "colab": {}
      },
      "source": [
        "import random\n",
        "import numpy as np\n",
        "import matplotlib.pyplot as plt"
      ],
      "execution_count": 0,
      "outputs": []
    },
    {
      "cell_type": "code",
      "metadata": {
        "id": "uRGoVpclL6dc",
        "colab_type": "code",
        "colab": {}
      },
      "source": [
        "def MSE(out, tgt):\n",
        "    N = len(out)\n",
        "    res = sum([(tgt[n]-out[n])**2 for n in range(N)]) / N\n",
        "    return res"
      ],
      "execution_count": 0,
      "outputs": []
    },
    {
      "cell_type": "code",
      "metadata": {
        "id": "PRUyPk9V8d9Q",
        "colab_type": "code",
        "colab": {}
      },
      "source": [
        "def display_res(genes): #Display results as input shape\n",
        "  result = [int(round(element*MAX_VALUE,0)) for element in genes]\n",
        "  print(result)"
      ],
      "execution_count": 0,
      "outputs": []
    },
    {
      "cell_type": "code",
      "metadata": {
        "id": "fxGnukpDL7-c",
        "colab_type": "code",
        "colab": {}
      },
      "source": [
        "class Individual:\n",
        "    def __init__(self, n_genes):\n",
        "        self.genes = [random.random() for _ in range(n_genes)] #Initialization with random genes\n",
        "        self.error = 0.0\n",
        "            \n",
        "    def set_genes(self, genes): #Replace the random genes with the recieved ones\n",
        "        self.genes = genes.copy()\n",
        "\n",
        "    def set_error(self, error):\n",
        "      self.error = error"
      ],
      "execution_count": 0,
      "outputs": []
    },
    {
      "cell_type": "code",
      "metadata": {
        "id": "9QK13CRRjfcE",
        "colab_type": "code",
        "colab": {}
      },
      "source": [
        "class Population:\n",
        "    def __init__(self, population_size, n_genes):\n",
        "        self.population_size = population_size\n",
        "        self.n_genes = n_genes\n",
        "        self.population = []\n",
        "        \n",
        "\n",
        "    def check_convergence(self, boundary_error):\n",
        "      errors = [individual.error for individual in self.population]\n",
        "      least_error = min(errors)\n",
        "      least_error_index = errors.index(least_error)\n",
        "      res = self.population[least_error_index].genes\n",
        "      if least_error < boundary_error:\n",
        "        return res, least_error, True\n",
        "      else:  \n",
        "        return res, least_error, False\n",
        "\n",
        "    def add(self, individual): #Add the new individual to the population\n",
        "        self.population.append(individual)\n",
        "        \n",
        "    def rand_individuals(self): #Fill the population with random individuals\n",
        "        self.population = [Individual(self.n_genes) for _ in range(self.population_size)]\n",
        "        \n",
        "    def eval_population(self, tgt_func, tgt_value):\n",
        "      for individual in self.population:\n",
        "        error = tgt_func(individual.genes, tgt_value)\n",
        "        individual.set_error(error)\n",
        "                    \n",
        "    def selection(self, num_individ=5): #турнирная селекция\n",
        "        self.selected = []\n",
        "        for individual in self.population:\n",
        "          rivals = [random.choice(self.population) for _ in range(num_individ)] #select rivals from population\n",
        "          rivals_error = [individual.error for individual in rivals]\n",
        "          least_error = min(rivals_error)\n",
        "          best_individ_index = rivals_error.index(least_error)\n",
        "          best_individ = rivals[best_individ_index]\n",
        "          self.selected.append(best_individ)\n",
        "        \n",
        "    def crossbreeding(self, param, probability): #арифметический кроссинговер  \n",
        "        self.temp_population = Population(self.population_size, self.n_genes)\n",
        "        \n",
        "        for _ in range(self.population_size//2): #т.к. в результате скрещивания появляется 2 потомка\n",
        "          parent_1 = self.selected[random.choice(np.arange(self.population_size))] \n",
        "          parent_2 = self.selected[random.choice(np.arange(self.population_size))] \n",
        "          child_1 = Individual(self.n_genes)\n",
        "          child_2 = Individual(self.n_genes)\n",
        "          if random.random() < probability:\n",
        "            child_1.set_genes(self.child_1_genes(parent_1, parent_2, param))\n",
        "            child_2.set_genes(self.child_2_genes(parent_1, parent_2, param))\n",
        "          self.temp_population.add(child_1)\n",
        "          self.temp_population.add(child_2)\n",
        "    \n",
        "    def child_1_genes(self, parent_1, parent_2, param):\n",
        "      child_genes = []\n",
        "      for num in range(self.n_genes):\n",
        "        gene = param * parent_1.genes[num] + (1 - param) * parent_2.genes[num]\n",
        "        child_genes.append(gene)\n",
        "      return child_genes\n",
        "    \n",
        "    def child_2_genes(self, parent_1, parent_2, param):\n",
        "      child_genes = []\n",
        "      for num in range(self.n_genes):\n",
        "        gene = param * parent_2.genes[num] + (1 - param) * parent_1.genes[num]\n",
        "        child_genes.append(gene)\n",
        "      return child_genes \n",
        "\n",
        "    def new_population(self, generation_bridge):\n",
        "      for num in range(self.population_size):\n",
        "        if random.random() < generation_bridge:\n",
        "          self.temp_population.population[num].genes = self.selected[num].genes\n",
        "      return self.temp_population\n",
        "    \n",
        "    def mutate(self, epsilon):\n",
        "        probability = 1 / self.n_genes\n",
        "        for individual in self.population:\n",
        "            for gene in individual.genes:\n",
        "                if random.random() < probability:\n",
        "                    rnd = random.choice([-1,1,-1,1,-1,1,-1,1]) * random.random() * epsilon #random distribution\n",
        "                    gene = gene + rnd"
      ],
      "execution_count": 0,
      "outputs": []
    },
    {
      "cell_type": "code",
      "metadata": {
        "id": "izYlAKHnMAlf",
        "colab_type": "code",
        "colab": {}
      },
      "source": [
        "random.seed(0)\n",
        "target = [96,96,159]\n",
        "MAX_VALUE = 255\n",
        "norm_target = [element/MAX_VALUE for element in target]\n",
        "\n",
        "BOUNDARY_ERROR = 0.000001\n",
        "PROBABILTY = 0.9 #Chance of crossbreeding\n",
        "PARAM = 0.5 #Lambda in crossbreeding\n",
        "EPSILON = 0.1 #Mutation value\n",
        "GENERATION_BRIDGE = 0.4 #Chance for old generations to remain in population\n",
        "POPULATION_SIZE = 1000\n",
        "N_GENES = len(norm_target)\n",
        "EPOCHES = 10000\n",
        "\n",
        "PROGRESS_BAR_UNIT = EPOCHES / 10\n",
        "\n",
        "populations = []"
      ],
      "execution_count": 0,
      "outputs": []
    },
    {
      "cell_type": "code",
      "metadata": {
        "id": "Fktz63E-ZbCt",
        "colab_type": "code",
        "outputId": "3594a826-325c-402b-ac7f-b026bcd1f94e",
        "colab": {
          "base_uri": "https://localhost:8080/",
          "height": 70
        }
      },
      "source": [
        "#The first steps\n",
        "populations.append(Population(POPULATION_SIZE,N_GENES)) #The first generation\n",
        "populations[0].rand_individuals() #Initialize the first generation\n",
        "\n",
        "done = False\n",
        "#The main cycle\n",
        "for epoch in range(0, EPOCHES):\n",
        "   populations[epoch].eval_population(MSE, norm_target) #Evaluate the population\n",
        "   #Check if converged\n",
        "   res, error, done = populations[epoch].check_convergence(BOUNDARY_ERROR)\n",
        "   if done == True:\n",
        "     print('Done in ', epoch, ' epoches; ', 'error: ', error)\n",
        "     display_res(res)\n",
        "     break\n",
        "\n",
        "   populations[epoch].selection()\n",
        "   populations[epoch].crossbreeding(PARAM, PROBABILTY)\n",
        "   populations[epoch].mutate(EPSILON)\n",
        "   populations.append(populations[epoch].new_population(GENERATION_BRIDGE))\n",
        "\n",
        "   if epoch % PROGRESS_BAR_UNIT == 0: print(epoch/EPOCHES*100, '%')"
      ],
      "execution_count": 0,
      "outputs": [
        {
          "output_type": "stream",
          "text": [
            "0.0 %\n",
            "Done in  5  epoches;  error:  5.227319721241434e-07\n",
            "[96, 96, 159]\n"
          ],
          "name": "stdout"
        }
      ]
    },
    {
      "cell_type": "code",
      "metadata": {
        "id": "4XTy0q9SZnKI",
        "colab_type": "code",
        "colab": {}
      },
      "source": [
        "if done == False:\n",
        "  print('100 %')\n",
        "  final_individuals = populations[-1] #The last element\n",
        "  final_errors = [individual.error for individual in final_individuals.population]\n",
        "  least_error = min(final_errors)\n",
        "  best_individual_index = final_errors.index(least_error)\n",
        "  best_individual = final_individuals.population[best_individual_index]\n",
        "  result = [int(round(element*MAX_VALUE,0)) for element in best_individual.genes]\n",
        "\n",
        "  print('target: ', target)\n",
        "  print('result: ', result)\n",
        "  print('Error: ', least_error)"
      ],
      "execution_count": 0,
      "outputs": []
    }
  ]
}